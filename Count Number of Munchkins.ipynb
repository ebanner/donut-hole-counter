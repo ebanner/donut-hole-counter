{
 "cells": [
  {
   "cell_type": "markdown",
   "id": "07a1d8a1-7b1f-45e2-a9e7-31442d620f76",
   "metadata": {},
   "source": [
    "# Train"
   ]
  },
  {
   "cell_type": "code",
   "execution_count": 34,
   "id": "0b088dc0-7d41-464b-826b-0aa5a1b0351c",
   "metadata": {},
   "outputs": [
    {
     "data": {
      "text/plain": [
       "[41, 37, 63, 21, 100, 55, 90, 26, 90, 77, 70]"
      ]
     },
     "execution_count": 34,
     "metadata": {},
     "output_type": "execute_result"
    }
   ],
   "source": [
    "train_label_fnames = !ls train/labels/\n",
    "\n",
    "num_lines = []\n",
    "\n",
    "for train_label_fname in train_label_fnames:\n",
    "    train_label_path = f'train/labels/{train_label_fname}'\n",
    "    result, = !wc -l $train_label_path\n",
    "    lines, _ = result.split()\n",
    "    num_lines.append(int(lines))\n",
    "\n",
    "num_lines"
   ]
  },
  {
   "cell_type": "markdown",
   "id": "7cb55f5e-08f5-4a8d-8c65-3c11bbfa1446",
   "metadata": {},
   "source": [
    "# Train + Val"
   ]
  },
  {
   "cell_type": "code",
   "execution_count": 35,
   "id": "373de096-7acc-4cff-a48c-67d592e2b2cb",
   "metadata": {},
   "outputs": [
    {
     "data": {
      "text/plain": [
       "[41, 37, 63, 21, 100, 55, 90, 26, 90, 77, 70, 60, 94, 99, 91]"
      ]
     },
     "execution_count": 35,
     "metadata": {},
     "output_type": "execute_result"
    }
   ],
   "source": [
    "val_label_fnames = !ls val/labels/\n",
    "\n",
    "for val_label_fname in val_label_fnames:\n",
    "    val_label_path = f'val/labels/{val_label_fname}'\n",
    "    result, = !wc -l $val_label_path\n",
    "    lines, _ = result.split()\n",
    "    num_lines.append(int(lines))\n",
    "\n",
    "num_lines"
   ]
  },
  {
   "cell_type": "markdown",
   "id": "60cf3597-6057-45cd-a47c-ee12450bd60c",
   "metadata": {},
   "source": [
    "# Train + Val + Test"
   ]
  },
  {
   "cell_type": "code",
   "execution_count": 36,
   "id": "e404a5aa-3aa9-4d25-8681-1fd852e0fe35",
   "metadata": {},
   "outputs": [
    {
     "data": {
      "text/plain": [
       "[41, 37, 63, 21, 100, 55, 90, 26, 90, 77, 70, 60, 94, 99, 91, 64, 98, 62, 36]"
      ]
     },
     "execution_count": 36,
     "metadata": {},
     "output_type": "execute_result"
    }
   ],
   "source": [
    "test_label_fnames = !ls test/labels/\n",
    "\n",
    "for test_label_fname in test_label_fnames:\n",
    "    test_label_path = f'test/labels/{test_label_fname}'\n",
    "    result, = !wc -l $test_label_path\n",
    "    lines, _ = result.split()\n",
    "    num_lines.append(int(lines))\n",
    "\n",
    "num_lines"
   ]
  },
  {
   "cell_type": "code",
   "execution_count": 37,
   "id": "667f42d8-e01a-45f0-9783-cf8118125397",
   "metadata": {},
   "outputs": [
    {
     "data": {
      "text/plain": [
       "1274"
      ]
     },
     "execution_count": 37,
     "metadata": {},
     "output_type": "execute_result"
    }
   ],
   "source": [
    "sum(num_lines)"
   ]
  }
 ],
 "metadata": {
  "kernelspec": {
   "display_name": "Python 3 (ipykernel)",
   "language": "python",
   "name": "python3"
  },
  "language_info": {
   "codemirror_mode": {
    "name": "ipython",
    "version": 3
   },
   "file_extension": ".py",
   "mimetype": "text/x-python",
   "name": "python",
   "nbconvert_exporter": "python",
   "pygments_lexer": "ipython3",
   "version": "3.12.0"
  }
 },
 "nbformat": 4,
 "nbformat_minor": 5
}
