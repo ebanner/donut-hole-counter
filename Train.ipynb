{
 "cells": [
  {
   "cell_type": "code",
   "execution_count": null,
   "id": "c41d3c65-d31f-4953-8795-d21ade282ce9",
   "metadata": {},
   "outputs": [],
   "source": [
    "from ultralytics import YOLO\n",
    "\n",
    "model = YOLO('yolov8n.pt')\n",
    "\n",
    "train_results = model.train(\n",
    "    data='data/dataset.yaml',\n",
    "    epochs=40,\n",
    "    device='cpu',  # Fix: Use CPU instead of MPS to avoid memory corruption\n",
    "    workers=0,      # Fix: Single worker to avoid threading issues\n",
    "    amp=False,      # Fix: Disable AMP for stability\n",
    "    mosaic=0.0,     # Disable data augmentation\n",
    "    fliplr=0.0      # Disable horizontal flip\n",
    ")"
   ]
  },
  {
   "cell_type": "code",
   "execution_count": null,
   "id": "730d283d-35e5-438d-8e2d-789d8d77dbbf",
   "metadata": {},
   "outputs": [],
   "source": [
    "from ultralytics import YOLO\n",
    "import cv2\n",
    "from PIL import Image\n",
    "\n",
    "model = YOLO(f'{train_results.save_dir}/weights/best.pt')\n",
    "\n",
    "prediction_results = model.predict(\n",
    "    # source='data/train/images/2dd1ddf2-IMG_1326.jpeg',\n",
    "    source='data/val/images/86e5d119-IMG_1328.jpeg',\n",
    "    conf=0.02,\n",
    "    project=\"test_overfitting\",\n",
    "    name=\"training_image_test\"\n",
    ")\n",
    "\n",
    "result = prediction_results[0]\n",
    "\n",
    "annot = result.plot(labels=False, conf=False)              # NumPy array with boxes drawn (BGR)\n",
    "\n",
    "Image.fromarray(\n",
    "    cv2.cvtColor(annot, cv2.COLOR_BGR2RGB)\n",
    ")"
   ]
  }
 ],
 "metadata": {
  "kernelspec": {
   "display_name": "Dunkin Munchkin Counter",
   "language": "python",
   "name": "dunkin-munchkin-counter"
  },
  "language_info": {
   "codemirror_mode": {
    "name": "ipython",
    "version": 3
   },
   "file_extension": ".py",
   "mimetype": "text/x-python",
   "name": "python",
   "nbconvert_exporter": "python",
   "pygments_lexer": "ipython3",
   "version": "3.12.0"
  }
 },
 "nbformat": 4,
 "nbformat_minor": 5
}
