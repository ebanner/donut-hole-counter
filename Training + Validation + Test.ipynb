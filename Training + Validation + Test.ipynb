{
 "cells": [
  {
   "cell_type": "markdown",
   "id": "b5f7105f-12c5-4472-9051-25acb5f31e91",
   "metadata": {},
   "source": [
    "# Training"
   ]
  },
  {
   "cell_type": "code",
   "execution_count": null,
   "id": "c41d3c65-d31f-4953-8795-d21ade282ce9",
   "metadata": {},
   "outputs": [],
   "source": [
    "from ultralytics import YOLO\n",
    "\n",
    "model = YOLO('yolov8n.pt')\n",
    "\n",
    "train_results = model.train(\n",
    "    data='data/dataset.yaml',\n",
    "    epochs=40,\n",
    "    device='cpu',  # Fix: Use CPU instead of MPS to avoid memory corruption\n",
    "    workers=0,      # Fix: Single worker to avoid threading issues\n",
    "    amp=False,      # Fix: Disable AMP for stability\n",
    "    mosaic=0.0,     # daDisable data augmentation\n",
    "    fliplr=0.0      # Disable horizontal flip\n",
    ")"
   ]
  },
  {
   "cell_type": "markdown",
   "id": "278548c7-dbd8-41e9-b623-d43b93c11018",
   "metadata": {},
   "source": [
    "# Validation"
   ]
  },
  {
   "cell_type": "code",
   "execution_count": null,
   "id": "3074dfb7-4ae1-452d-adf1-e17db324b0a4",
   "metadata": {
    "scrolled": true
   },
   "outputs": [],
   "source": [
    "import numpy as np\n",
    "\n",
    "from tqdm import tqdm\n",
    "\n",
    "best = {\"conf\": None, \"f1\": -1, \"metrics\": None}\n",
    "confs = np.linspace(0.005, 0.2, 40)\n",
    "for conf in tqdm(confs):\n",
    "    val = model.val(data=\"data/dataset.yaml\", conf=float(conf), plots=False, verbose=False)\n",
    "    f1 = val.box.f1.mean()\n",
    "    if f1 > best[\"f1\"]:\n",
    "        best = {\"conf\": float(conf), \"f1\": float(f1)}"
   ]
  },
  {
   "cell_type": "markdown",
   "id": "ac3de3f4-a408-496f-bd6b-4e05c794699f",
   "metadata": {},
   "source": [
    "# Predict"
   ]
  },
  {
   "cell_type": "code",
   "execution_count": null,
   "id": "730d283d-35e5-438d-8e2d-789d8d77dbbf",
   "metadata": {},
   "outputs": [],
   "source": [
    "from ultralytics import YOLO\n",
    "import cv2\n",
    "from PIL import Image\n",
    "\n",
    "model = YOLO(f'{train_results.save_dir}/weights/best.pt')\n",
    "\n",
    "prediction_results = model.predict(\n",
    "    # source='data/train/images/2dd1ddf2-IMG_1326.jpeg',\n",
    "    source='data/test/images/03230a96-IMG_1332.jpeg',\n",
    "    conf=best['conf'],\n",
    "    project=\"test_overfitting\",\n",
    "    name=\"training_image_test\"\n",
    ")\n",
    "\n",
    "result = prediction_results[0]\n",
    "\n",
    "annot = result.plot(labels=False, conf=False)              # NumPy array with boxes drawn (BGR)\n",
    "\n",
    "Image.fromarray(\n",
    "    cv2.cvtColor(annot, cv2.COLOR_BGR2RGB)\n",
    ")"
   ]
  }
 ],
 "metadata": {
  "kernelspec": {
   "display_name": "Dunkin Munchkin Counter",
   "language": "python",
   "name": "dunkin-munchkin-counter"
  },
  "language_info": {
   "codemirror_mode": {
    "name": "ipython",
    "version": 3
   },
   "file_extension": ".py",
   "mimetype": "text/x-python",
   "name": "python",
   "nbconvert_exporter": "python",
   "pygments_lexer": "ipython3",
   "version": "3.12.0"
  }
 },
 "nbformat": 4,
 "nbformat_minor": 5
}
