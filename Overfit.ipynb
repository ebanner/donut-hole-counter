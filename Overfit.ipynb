{
 "cells": [
  {
   "cell_type": "code",
   "execution_count": null,
   "id": "0b533269-6e7d-490a-8631-2e663dcf506d",
   "metadata": {},
   "outputs": [],
   "source": [
    "from PIL import Image\n",
    "\n",
    "Image.open('data/train/images/2dd1ddf2-IMG_1326.jpeg')"
   ]
  },
  {
   "cell_type": "code",
   "execution_count": null,
   "id": "c41d3c65-d31f-4953-8795-d21ade282ce9",
   "metadata": {},
   "outputs": [],
   "source": [
    "from ultralytics import YOLO\n",
    "\n",
    "model = YOLO('yolov8n.pt')\n",
    "\n",
    "results = model.train(\n",
    "    data='data/dataset.yaml',\n",
    "    epochs=10,\n",
    "    device='cpu',  # Fix: Use CPU instead of MPS to avoid memory corruption\n",
    "    workers=0,      # Fix: Single worker to avoid threading issues\n",
    "    amp=False,      # Fix: Disable AMP for stability\n",
    "    mosaic=0.0,     # Disable data augmentation\n",
    "    fliplr=0.0      # Disable horizontal flip\n",
    ")"
   ]
  },
  {
   "cell_type": "code",
   "execution_count": null,
   "id": "730d283d-35e5-438d-8e2d-789d8d77dbbf",
   "metadata": {},
   "outputs": [],
   "source": [
    "from ultralytics import YOLO\n",
    "import cv2\n",
    "from PIL import Image\n",
    "\n",
    "model = YOLO(\"/Users/edward/Code/dunkin-munchkin-counter/runs/detect/train2/weights/best.pt\")\n",
    "\n",
    "results = model.predict(\n",
    "    source='data/train/images/2dd1ddf2-IMG_1326.jpeg',\n",
    "    conf=0.5,\n",
    "    project=\"test_overfitting\",\n",
    "    name=\"training_image_test\"\n",
    ")\n",
    "\n",
    "result = results[0]\n",
    "\n",
    "annot = result.plot(labels=False, conf=False)              # NumPy array with boxes drawn (BGR)\n",
    "\n",
    "Image.fromarray(\n",
    "    cv2.cvtColor(annot, cv2.COLOR_BGR2RGB)\n",
    ")"
   ]
  }
 ],
 "metadata": {
  "kernelspec": {
   "display_name": "Dunkin Munchkin Counter",
   "language": "python",
   "name": "dunkin-munchkin-counter"
  },
  "language_info": {
   "codemirror_mode": {
    "name": "ipython",
    "version": 3
   },
   "file_extension": ".py",
   "mimetype": "text/x-python",
   "name": "python",
   "nbconvert_exporter": "python",
   "pygments_lexer": "ipython3",
   "version": "3.12.0"
  }
 },
 "nbformat": 4,
 "nbformat_minor": 5
}
